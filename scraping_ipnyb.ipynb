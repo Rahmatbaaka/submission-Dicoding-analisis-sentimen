{
  "nbformat": 4,
  "nbformat_minor": 0,
  "metadata": {
    "colab": {
      "provenance": []
    },
    "kernelspec": {
      "name": "python3",
      "display_name": "Python 3"
    },
    "language_info": {
      "name": "python"
    }
  },
  "cells": [
    {
      "cell_type": "markdown",
      "source": [
        "- **Nama:** Rahmat Hidayat\n",
        "- **Email:** yamato.open.wano@gmail.com\n",
        "- **ID Dicoding:** baakanides"
      ],
      "metadata": {
        "id": "kaQF5vJMT19Q"
      }
    },
    {
      "cell_type": "markdown",
      "source": [
        "### **Import dan install library yang di perlukan**"
      ],
      "metadata": {
        "id": "EizsUdqUuhp-"
      }
    },
    {
      "cell_type": "code",
      "source": [
        "!pip install google-play-scraper"
      ],
      "metadata": {
        "colab": {
          "base_uri": "https://localhost:8080/"
        },
        "id": "20wXNt_jVEMy",
        "outputId": "0adac2a3-6905-428d-c0e3-2be2aebc776c"
      },
      "execution_count": 1,
      "outputs": [
        {
          "output_type": "stream",
          "name": "stdout",
          "text": [
            "Collecting google-play-scraper\n",
            "  Downloading google_play_scraper-1.2.7-py3-none-any.whl.metadata (50 kB)\n",
            "\u001b[?25l     \u001b[90m━━━━━━━━━━━━━━━━━━━━━━━━━━━━━━━━━━━━━━━━\u001b[0m \u001b[32m0.0/50.2 kB\u001b[0m \u001b[31m?\u001b[0m eta \u001b[36m-:--:--\u001b[0m\r\u001b[2K     \u001b[90m━━━━━━━━━━━━━━━━━━━━━━━━━━━━━━━━━━━━━━━━\u001b[0m \u001b[32m50.2/50.2 kB\u001b[0m \u001b[31m3.4 MB/s\u001b[0m eta \u001b[36m0:00:00\u001b[0m\n",
            "\u001b[?25hDownloading google_play_scraper-1.2.7-py3-none-any.whl (28 kB)\n",
            "Installing collected packages: google-play-scraper\n",
            "Successfully installed google-play-scraper-1.2.7\n"
          ]
        }
      ]
    },
    {
      "cell_type": "code",
      "source": [
        "from google_play_scraper import app, reviews_all, reviews, Sort\n",
        "import pandas as pd"
      ],
      "metadata": {
        "id": "dvifQX55ugYQ"
      },
      "execution_count": 2,
      "outputs": []
    },
    {
      "cell_type": "markdown",
      "source": [
        "### **scraping data dari ulasan aplikasi game mobile lagend**"
      ],
      "metadata": {
        "id": "K4OvUT-xuqyP"
      }
    },
    {
      "cell_type": "code",
      "execution_count": 3,
      "metadata": {
        "id": "uRLyWyPRKaph"
      },
      "outputs": [],
      "source": [
        "#melakukan 3x scraping  untuk 3 score berbeda agar lebih merata\n",
        "scrapreview_score_5 = reviews(\n",
        "    'com.mobile.legends',\n",
        "    lang='id',\n",
        "    country='id',\n",
        "    sort=Sort.MOST_RELEVANT,\n",
        "    count=10000,\n",
        "    filter_score_with=5\n",
        ")\n",
        "scrapreview_score_3 = reviews(\n",
        "    'com.mobile.legends',\n",
        "    lang='id',\n",
        "    country='id',\n",
        "    sort=Sort.MOST_RELEVANT,\n",
        "    count=10000,\n",
        "    filter_score_with=3\n",
        ")\n",
        "scrapreview_score_1 = reviews(\n",
        "    'com.mobile.legends',\n",
        "    lang='id',\n",
        "    country='id',\n",
        "    sort=Sort.MOST_RELEVANT,\n",
        "    count=10000,\n",
        "    filter_score_with=1\n",
        ")\n",
        "\n",
        "scrapreview = scrapreview_score_5[0] + scrapreview_score_3[0] + scrapreview_score_1[0]"
      ]
    },
    {
      "cell_type": "markdown",
      "source": [
        "### **Menyimpan hasil data scraping ke file csv**"
      ],
      "metadata": {
        "id": "OVSimMWazj7B"
      }
    },
    {
      "cell_type": "code",
      "source": [
        "df = pd.DataFrame(scrapreview)\n",
        "\n",
        "# Menyimpan DataFrame ke file CSV\n",
        "df.to_csv('mobile_legend.csv', index=False)"
      ],
      "metadata": {
        "id": "RFK3niKLdwuL"
      },
      "execution_count": 4,
      "outputs": []
    },
    {
      "cell_type": "code",
      "source": [
        "#mengecek jumblah hasil data berdasarkan score\n",
        "df['score'].value_counts()"
      ],
      "metadata": {
        "colab": {
          "base_uri": "https://localhost:8080/",
          "height": 210
        },
        "id": "9EPv6jbcqFTr",
        "outputId": "7ea70460-f9e8-4b47-be21-ec10070ff9ad"
      },
      "execution_count": 5,
      "outputs": [
        {
          "output_type": "execute_result",
          "data": {
            "text/plain": [
              "score\n",
              "5    10000\n",
              "3    10000\n",
              "1    10000\n",
              "Name: count, dtype: int64"
            ],
            "text/html": [
              "<div>\n",
              "<style scoped>\n",
              "    .dataframe tbody tr th:only-of-type {\n",
              "        vertical-align: middle;\n",
              "    }\n",
              "\n",
              "    .dataframe tbody tr th {\n",
              "        vertical-align: top;\n",
              "    }\n",
              "\n",
              "    .dataframe thead th {\n",
              "        text-align: right;\n",
              "    }\n",
              "</style>\n",
              "<table border=\"1\" class=\"dataframe\">\n",
              "  <thead>\n",
              "    <tr style=\"text-align: right;\">\n",
              "      <th></th>\n",
              "      <th>count</th>\n",
              "    </tr>\n",
              "    <tr>\n",
              "      <th>score</th>\n",
              "      <th></th>\n",
              "    </tr>\n",
              "  </thead>\n",
              "  <tbody>\n",
              "    <tr>\n",
              "      <th>5</th>\n",
              "      <td>10000</td>\n",
              "    </tr>\n",
              "    <tr>\n",
              "      <th>3</th>\n",
              "      <td>10000</td>\n",
              "    </tr>\n",
              "    <tr>\n",
              "      <th>1</th>\n",
              "      <td>10000</td>\n",
              "    </tr>\n",
              "  </tbody>\n",
              "</table>\n",
              "</div><br><label><b>dtype:</b> int64</label>"
            ]
          },
          "metadata": {},
          "execution_count": 5
        }
      ]
    }
  ]
}